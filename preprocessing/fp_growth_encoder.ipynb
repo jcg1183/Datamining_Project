{
 "cells": [
  {
   "cell_type": "code",
   "execution_count": 19,
   "metadata": {},
   "outputs": [],
   "source": [
    "import pandas as pd\n",
    "\n",
    "file1 = open(\"input.txt\", \"r\")\n",
    "Lines = file1.readlines()\n",
    "\n",
    "num_unique = int(Lines[0])\n",
    "num_transactions = int(Lines[1])\n",
    "\n",
    "items = []\n",
    "\n",
    "for line in Lines[2:]:\n",
    "    list1 = line.split()\n",
    "    items = items + list1[1:]\n",
    "\n",
    "dict1 = {\"items\": items}\n",
    "\n",
    "df = pd.DataFrame(dict1, columns=[\"items\"])\n",
    "\n",
    "unique_items = df['items'].unique()\n",
    "\n",
    "encode = {}\n",
    "decode = {}\n",
    "\n",
    "for i in range(len(unique_items)):\n",
    "    encode[unique_items[i]] = i\n",
    "    decode[i] = unique_items[i]\n",
    "    \n",
    "f = open(\"fp_growth\" + str(num_unique) + \".txt\", \"w\")\n",
    "\n",
    "f.write(str(num_unique) + \"\\n\")\n",
    "f.write(str(num_transactions) + \"\\n\")\n",
    "\n",
    "for line in Lines[2:]:\n",
    "    list1 = line.split()\n",
    "\n",
    "    # write the number of items in this transaction\n",
    "    f.write(str(list1[0]) + \" \")\n",
    "    \n",
    "    # write the encoded items in this transaction\n",
    "    for item in list1[1:]:\n",
    "        if item == list1[-1]:\n",
    "            f.write(str(encode[item]) + \"\\n\")\n",
    "        else:\n",
    "            f.write(str(encode[item]) + \" \")\n",
    "\n",
    "f.close()\n",
    "\n",
    "\n",
    "f = open(\"fp_growth\" + str(num_unique) + \"_dict.txt\", \"w\")\n",
    "\n",
    "for key, item in encode.items():\n",
    "    f.write(key + \" \" + str(item))\n",
    "    \n",
    "f.close()\n"
   ]
  },
  {
   "cell_type": "code",
   "execution_count": null,
   "metadata": {},
   "outputs": [],
   "source": []
  },
  {
   "cell_type": "code",
   "execution_count": null,
   "metadata": {},
   "outputs": [],
   "source": []
  }
 ],
 "metadata": {
  "kernelspec": {
   "display_name": "Python 3",
   "language": "python",
   "name": "python3"
  },
  "language_info": {
   "codemirror_mode": {
    "name": "ipython",
    "version": 3
   },
   "file_extension": ".py",
   "mimetype": "text/x-python",
   "name": "python",
   "nbconvert_exporter": "python",
   "pygments_lexer": "ipython3",
   "version": "3.7.6"
  }
 },
 "nbformat": 4,
 "nbformat_minor": 4
}
