{
 "cells": [
  {
   "cell_type": "markdown",
   "metadata": {},
   "source": [
    "1.  The following table contains the outcome of classifying 10 testing tuples using a probabliistic classifier.  for each tuple, the actual class (P or N) is given in the second column, and the probability (of class P) returned by the classifier is in the third column.  \n",
    "\n",
    "1 (a) For each row of the table, assume that the threshold of probability for predicting class P is the probability in that row, dtermine the numbers of:  \n",
    "true positives (TP),  \n",
    "false positives (FP),  \n",
    "true negatives (TN),  \n",
    "false negatives (FN),  \n",
    "the true positive rate (TPR) and  \n",
    "false positive rate (FPR)  \n",
    "of the entire set of tuples."
   ]
  },
  {
   "cell_type": "code",
   "execution_count": 1,
   "metadata": {},
   "outputs": [
    {
     "name": "stdout",
     "output_type": "stream",
     "text": [
      "   class  prob TP FP TN FN  TPR  FPR\n",
      "1      P  0.95  1  0  5  4  0.2  0.0\n",
      "2      N  0.85  1  1  4  4  0.2  0.2\n",
      "3      P  0.78  2  1  4  3  0.4  0.2\n",
      "4      P  0.66  3  1  4  2  0.6  0.2\n",
      "5      N   0.6  3  2  3  2  0.6  0.4\n",
      "6      P  0.55  4  2  3  1  0.8  0.4\n",
      "7      N  0.53  4  3  2  1  0.8  0.6\n",
      "8      N  0.52  4  4  1  1  0.8  0.8\n",
      "9      N  0.51  4  5  0  1  0.8  1.0\n",
      "10     P   0.4  5  5  0  0  1.0  1.0\n"
     ]
    }
   ],
   "source": [
    "import pandas as pd\n",
    "import numpy as np\n",
    "import math\n",
    "\n",
    "dict1 = {1: pd.Series([\"P\", .95], index=['class', 'prob']),\n",
    "         2: pd.Series([\"N\", .85], index=['class', 'prob']),\n",
    "         3: pd.Series([\"P\", .78], index=['class', 'prob']),\n",
    "         4: pd.Series([\"P\", .66], index=['class', 'prob']),\n",
    "         5: pd.Series([\"N\", .60], index=['class', 'prob']),\n",
    "         6: pd.Series([\"P\", .55], index=['class', 'prob']),\n",
    "         7: pd.Series([\"N\", .53], index=['class', 'prob']),\n",
    "         8: pd.Series([\"N\", .52], index=['class', 'prob']),\n",
    "         9: pd.Series([\"N\", .51], index=['class', 'prob']),\n",
    "         10: pd.Series([\"P\", .40], index=['class', 'prob']),\n",
    "         }\n",
    "\n",
    "df = pd.DataFrame(dict1).T\n",
    "\n",
    "TP = ['TP']\n",
    "FP = ['FP']\n",
    "TN = ['TN']\n",
    "FN = ['FN']\n",
    "TPR = ['TPR']\n",
    "FPR = ['FPR']\n",
    "\n",
    "df_count = df['class'].value_counts()\n",
    "\n",
    "for i in range(0, len(df.index)+1):\n",
    "    up_slice = df.iloc[0:i+1]\n",
    "         \n",
    "    up_counts = up_slice['class'].value_counts()\n",
    "        \n",
    "    if 'P' in up_counts.index:\n",
    "        TP.append(up_counts['P'])\n",
    "    else:\n",
    "        TP.append(0)\n",
    "        \n",
    "    if 'N' in up_counts.index:\n",
    "        FP.append(up_counts['N'])\n",
    "    else:\n",
    "        FP.append(0)\n",
    "    \n",
    "    down_slice = df.iloc[i+1:]\n",
    "        \n",
    "    down_counts = down_slice['class'].value_counts()\n",
    "        \n",
    "    if 'N' in down_counts.index:\n",
    "        TN.append(down_counts['N'])\n",
    "    else:\n",
    "        TN.append(0)\n",
    "        \n",
    "    if 'P' in down_counts.index:\n",
    "        FN.append(down_counts['P'])\n",
    "    else:\n",
    "        FN.append(0)\n",
    "    \n",
    "    TPR.append(TP[-1] / df_count['P'])\n",
    "    FPR.append(FP[-1] / df_count['N'])\n",
    "    \n",
    "df['TP'] = pd.Series(np.array(TP))\n",
    "df['FP'] = pd.Series(np.array(FP))\n",
    "df['TN'] = pd.Series(np.array(TN))\n",
    "df['FN'] = pd.Series(np.array(FN))\n",
    "df['TPR'] = pd.Series(np.array(TPR))\n",
    "df['FPR'] = pd.Series(np.array(FPR))\n",
    "\n",
    "print(df)"
   ]
  },
  {
   "cell_type": "markdown",
   "metadata": {},
   "source": [
    "1. (b) Plot the ROC curve for the data"
   ]
  },
  {
   "cell_type": "code",
   "execution_count": 2,
   "metadata": {},
   "outputs": [
    {
     "data": {
      "text/plain": [
       "Text(0.5, 1.0, 'ROC Curve')"
      ]
     },
     "execution_count": 2,
     "metadata": {},
     "output_type": "execute_result"
    },
    {
     "data": {
      "image/png": "[encoded data removed]",
      "text/plain": [
       "<Figure size 432x288 with 1 Axes>"
      ]
     },
     "metadata": {
      "needs_background": "light"
     },
     "output_type": "display_data"
    }
   ],
   "source": [
    "df['TPR']=df['TPR'].astype(float)\n",
    "df['FPR']=df['FPR'].astype(float)\n",
    "\n",
    "plot = df.plot.line(x ='FPR', y='TPR')\n",
    "plot.set_xlabel(\"FPR\")\n",
    "plot.set_ylabel(\"TPR\")\n",
    "plot.set_title(\"ROC Curve\")"
   ]
  },
  {
   "cell_type": "markdown",
   "metadata": {},
   "source": [
    "2.  Suppose we have two predictive models, M1 and M2 and run 10 rounds of 10-fold cross-validation test using the two models.  The error rates obtained from the test are given in the following table.\n",
    "\n",
    "2  (a) Training set and testing set are based on the same splits of a 10-fold cross-validation train/test dataset.  Perform a t-test at a significance level of 0.001."
   ]
  },
  {
   "cell_type": "code",
   "execution_count": 3,
   "metadata": {},
   "outputs": [
    {
     "name": "stdout",
     "output_type": "stream",
     "text": [
      "With a significance level of 0.001 and degrees of freedom being 9, the t-score is 4.297.\n",
      "\n",
      "Our t value, 2.471, is less than the t-distribution 4.297, \n",
      "meaning that we must accept the null hypothesis.\n",
      "There is no statistical difference between the models.\n"
     ]
    }
   ],
   "source": [
    "dict2 = {1: pd.Series([30.5, 22.4], index=['m1', 'm2']),\n",
    "         2: pd.Series([32.2, 14.5], index=['m1', 'm2']),\n",
    "         3: pd.Series([20.7, 22.4], index=['m1', 'm2']),\n",
    "         4: pd.Series([20.6, 19.6], index=['m1', 'm2']),\n",
    "         5: pd.Series([31.0, 20.7], index=['m1', 'm2']),\n",
    "         6: pd.Series([41.0, 20.4], index=['m1', 'm2']),\n",
    "         7: pd.Series([27.7, 22.1], index=['m1', 'm2']),\n",
    "         8: pd.Series([26.0, 19.4], index=['m1', 'm2']),\n",
    "         9: pd.Series([21.5, 16.2], index=['m1', 'm2']),\n",
    "         10: pd.Series([26.0, 35.0], index=['m1', 'm2']),\n",
    "         }\n",
    "\n",
    "df2 = pd.DataFrame(dict2).T\n",
    "\n",
    "k = 10\n",
    "degree_freedom = k - 1         # d_f = k -1\n",
    "mean = df2.mean()\n",
    "variance = 0\n",
    "\n",
    "for i in range(len(df2.index)):\n",
    "    variance += pow((df2.iloc[i]['m1'] - df2.iloc[i]['m2']) - (mean[0]-mean[1]), 2)\n",
    "    \n",
    "variance = variance / k\n",
    "\n",
    "t = (mean[0] - mean[1]) / math.sqrt(variance / k)\n",
    "\n",
    "significance_level = 0.001\n",
    "\n",
    "t_distribution = 4.297\n",
    "\n",
    "print(\"With a significance level of {0} and degrees of freedom being {1}, the t-score is {2}.\".format(significance_level, degree_freedom, t_distribution))\n",
    "print(\"\\nOur t value, {0:4.3f}, is less than the t-distribution {1}, \\nmeaning that we must accept the null hypothesis.\".format(t, t_distribution))\n",
    "print(\"There is no statistical difference between the models.\")"
   ]
  },
  {
   "cell_type": "markdown",
   "metadata": {},
   "source": [
    "2. (b) Models are built and tested independently."
   ]
  },
  {
   "cell_type": "code",
   "execution_count": 4,
   "metadata": {},
   "outputs": [
    {
     "name": "stdout",
     "output_type": "stream",
     "text": [
      "With a significance level of 0.001 and degrees of freedom being 10, the t-score is 4.297.\n",
      "\n",
      "Our t value, 2.569, is less than the t-distribution 4.297, \n",
      "meaning that we must accept the null hypothesis.\n",
      "There is no statistical difference between the models.\n"
     ]
    }
   ],
   "source": [
    "degree_freedom = k\n",
    "\n",
    "variance = 0\n",
    "m1_var = 0\n",
    "m2_var = 0\n",
    "\n",
    "for i in range(len(df2.index)):\n",
    "    m1_var += pow((df2.iloc[i]['m1'] - mean[0]), 2)\n",
    "    m2_var += pow((df2.iloc[i]['m2'] - mean[1]), 2)\n",
    "    \n",
    "m1_var = m1_var / k\n",
    "m2_var = m2_var / k\n",
    "\n",
    "variance = (m1_var / k) + (m2_var / k)\n",
    "    \n",
    "t = (mean[0] - mean[1]) / math.sqrt(variance)\n",
    "\n",
    "significance_level = 0.001\n",
    "\n",
    "t_distribution = 4.297\n",
    "\n",
    "print(\"With a significance level of {0} and degrees of freedom being {1}, the t-score is {2}.\".format(significance_level, degree_freedom, t_distribution))\n",
    "print(\"\\nOur t value, {0:4.3f}, is less than the t-distribution {1}, \\nmeaning that we must accept the null hypothesis.\".format(t, t_distribution))\n",
    "print(\"There is no statistical difference between the models.\")"
   ]
  },
  {
   "cell_type": "markdown",
   "metadata": {},
   "source": [
    "3.  Write a python jupyter notebook that performs a synchronized ten rounds 10-fold cross validation tests to obtain the classification accuracy scores for the Naive Bayesian and the AdaBoost classifiers learned from the dataset given in hwk07.csv, in which column H is the class label.  Specificially, in each round, the same training set should be used to train the classifiers, and the same testing set should be used to measure the classification accuracy scores.  Your program should use function from the scikit-learn to create random folds, to learn classifiers, to test the classifiers and to calculate classification accuracy scores."
   ]
  },
  {
   "cell_type": "code",
   "execution_count": 5,
   "metadata": {},
   "outputs": [
    {
     "name": "stdout",
     "output_type": "stream",
     "text": [
      "Accuracy of Naive Bayes and AdaBoost Classifiers\n",
      "\n",
      "Fold     Naive Bayes       AdaBoost\n",
      "-----------------------------------\n",
      "  0         0.96             0.90\n",
      "  1         0.90             0.92\n",
      "  2         0.94             0.46\n",
      "  3         0.96             0.84\n",
      "  4         0.92             0.78\n",
      "  5         0.94             0.88\n",
      "  6         0.88             0.84\n",
      "  7         0.90             0.84\n",
      "  8         0.90             0.92\n",
      "  9         0.94             0.86\n"
     ]
    }
   ],
   "source": [
    "from sklearn.model_selection import KFold\n",
    "from sklearn.model_selection import cross_val_score\n",
    "from sklearn.naive_bayes import GaussianNB\n",
    "from sklearn.ensemble import AdaBoostClassifier\n",
    "from sklearn import metrics\n",
    "\n",
    "x_cols = ['A', 'B', 'C', 'D', 'E', 'F', 'G']\n",
    "y_cols = ['H']\n",
    "\n",
    "df3 = pd.read_csv(\"hwk07.csv\")\n",
    "\n",
    "df3 = df3.apply(pd.to_numeric)\n",
    "\n",
    "X = df3[x_cols]\n",
    "\n",
    "y = df3[y_cols]\n",
    "\n",
    "cv = KFold(n_splits=10, random_state=1, shuffle=True)\n",
    "\n",
    "nb_list = []\n",
    "ada_list = []\n",
    "\n",
    "for train_index, test_index in cv.split(X):\n",
    "    X_train, X_test = X.iloc[train_index], X.iloc[test_index]\n",
    "    y_train, y_test = y.iloc[train_index], y.iloc[test_index]\n",
    "    \n",
    "    model_nb = GaussianNB()\n",
    "    \n",
    "    model_nb.fit(X_train, y_train.values.ravel())\n",
    "    \n",
    "    nb_y_pred = model_nb.predict(X_test)\n",
    "    \n",
    "    nb_list.append(metrics.accuracy_score(y_test, nb_y_pred))\n",
    "    \n",
    "    model_ada = AdaBoostClassifier(random_state=0)\n",
    "    \n",
    "    model_ada.fit(X_train, y_train.values.ravel())\n",
    "    \n",
    "    ada_y_pred = model_ada.predict(X_test)\n",
    "    \n",
    "    ada_list.append(metrics.accuracy_score(y_test, ada_y_pred))\n",
    "    \n",
    "print(\"Accuracy of Naive Bayes and AdaBoost Classifiers\\n\")\n",
    "\n",
    "print(\"Fold     Naive Bayes       AdaBoost\")\n",
    "print(\"-----------------------------------\")\n",
    "for i in range(len(nb_list)):\n",
    "    print(\"  {2}         {0:4.2f}             {1:4.2f}\".format(nb_list[i], ada_list[i], i))  "
   ]
  },
  {
   "cell_type": "code",
   "execution_count": null,
   "metadata": {},
   "outputs": [],
   "source": []
  }
 ],
 "metadata": {
  "kernelspec": {
   "display_name": "Python 3",
   "language": "python",
   "name": "python3"
  },
  "language_info": {
   "codemirror_mode": {
    "name": "ipython",
    "version": 3
   },
   "file_extension": ".py",
   "mimetype": "text/x-python",
   "name": "python",
   "nbconvert_exporter": "python",
   "pygments_lexer": "ipython3",
   "version": "3.7.6"
  }
 },
 "nbformat": 4,
 "nbformat_minor": 4
}
